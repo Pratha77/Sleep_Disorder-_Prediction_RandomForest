{
  "cells": [
    {
      "cell_type": "markdown",
      "metadata": {
        "id": "pWtAA_rad2EH"
      },
      "source": [
        "# Sleep Disorder Prediction"
      ]
    },
    {
      "cell_type": "code",
      "execution_count": null,
      "metadata": {
        "id": "9UvLROfpd2EM"
      },
      "outputs": [],
      "source": []
    },
    {
      "cell_type": "markdown",
      "metadata": {
        "id": "TH-x2t8Nd2EN"
      },
      "source": [
        "The aim of the project is to analyze the person's lifestyles and medical variables such as age, BMI, physical activity, sleep duration, blood pressure and many more, to predict the sleep disorder and its type.\n",
        "\n",
        "### About the Dataset\n",
        "The Sleep Health and Lifestyle Dataset comprises 400 rows and 13 columns, covering a wide range of variables related to sleep and daily habits. It includes details such as gender, age, occupation, sleep duration, quality of sleep, physical activity level, stress levels, BMI category, blood pressure, heart rate, daily steps, and the presence or absence of sleep disorders.\n",
        "\n",
        "### Key Features of the Dataset:\n",
        "- Comprehensive Sleep Metrics: Explore sleep duration, quality, and factors influencing sleep patterns.\n",
        "- Lifestyle Factors: Analyze physical activity levels, stress levels, and BMI categories.\n",
        "- Cardiovascular Health: Examine blood pressure and heart rate measurements.\n",
        "- Sleep Disorder Analysis: Identify the occurrence of sleep disorders such as Insomnia and Sleep Apnea.\n",
        "\n",
        "### Data Dictionary\n",
        "| Column Name | Description |\n",
        "| --- | --- |\n",
        "|Person_ID | Unique ID assigned to each person |\n",
        "|Gender|The gender of the person (Male/Female)|\n",
        "|Age | Age of the person in years |\n",
        "|Occupation | The occupation of the person |\n",
        "|Sleep_duration | The duration of sleep of the person in hours |\n",
        "|Quality_of_sleep | A subjective rating of the quality of sleep, ranging from 1 to 10|\n",
        "|Physical_activity | The level of physical activity of the person (Low/Medium/High) |\n",
        "|Stress Level| A subjective rating of the stress level, ranging from 1 to 10 |\n",
        "|BMI_category | The BMI category of the person (Underweight/Normal/Overweight/Obesity) |\n",
        "|Blood_pressure | The blood pressure of the person in mmHg |\n",
        "|Heart_rate | The heart rate of the person in beats per minute |\n",
        "|Daily Steps | The number of steps taken by the person per day |\n",
        "|Sleep_disorder | The presence or absence of a sleep disorder in the person (None, Insomnia, Sleep Apnea) |\n",
        "\n",
        "\n",
        "### Details about Sleep Disorder Column:\n",
        "- None: The individual does not exhibit any specific sleep disorder.\n",
        "- Insomnia: The individual experiences difficulty falling asleep or staying asleep, leading to inadequate or poor-quality sleep.\n",
        "- Sleep Apnea: The individual suffers from pauses in breathing during sleep, resulting in disrupted sleep patterns and potential health risks."
      ]
    },
    {
      "cell_type": "code",
      "execution_count": null,
      "metadata": {
        "id": "lF7KSL7Jd2EO"
      },
      "outputs": [],
      "source": [
        "#importing the libraries\n",
        "import numpy as np\n",
        "import pandas as pd\n",
        "import matplotlib.pyplot as plt\n",
        "import seaborn as sns"
      ]
    },
    {
      "cell_type": "code",
      "execution_count": null,
      "metadata": {
        "id": "nEvaIP8Md2EP"
      },
      "outputs": [],
      "source": [
        "#loading the dataset\n",
        "df = pd.read_csv('Sleep_health_and_lifestyle_dataset.csv')\n",
        "df.head()"
      ]
    },
    {
      "cell_type": "markdown",
      "metadata": {
        "id": "fOkWaBdmd2ER"
      },
      "source": [
        "## Data Preprocessing Part 1"
      ]
    },
    {
      "cell_type": "code",
      "execution_count": null,
      "metadata": {
        "id": "vEw7jRAid2ER"
      },
      "outputs": [],
      "source": [
        "#checking for missing values\n",
        "df.isnull().sum()"
      ]
    },
    {
      "cell_type": "code",
      "execution_count": null,
      "metadata": {
        "id": "TyIbbboad2ES"
      },
      "outputs": [],
      "source": [
        "#replacing the null values with 'None' in the column 'Sleep Disorder'\n",
        "df['Sleep Disorder'].fillna('None', inplace=True)"
      ]
    },
    {
      "cell_type": "markdown",
      "metadata": {
        "id": "XtntwCqBd2ES"
      },
      "source": [
        "The nan/None value in sleep disorder stands for no sleep disorder, so it is not a missing value."
      ]
    },
    {
      "cell_type": "code",
      "execution_count": null,
      "metadata": {
        "id": "aZ-4UmoTd2ET"
      },
      "outputs": [],
      "source": [
        "#drop column Person ID\n",
        "df.drop('Person ID', axis=1, inplace=True)"
      ]
    },
    {
      "cell_type": "code",
      "execution_count": null,
      "metadata": {
        "id": "7Gk1pqG_d2ET"
      },
      "outputs": [],
      "source": [
        "#checking the number of unique values in each column\n",
        "print(\"Unique values in each column are:\")\n",
        "for col in df.columns:\n",
        "    print(col,df[col].nunique())\n"
      ]
    },
    {
      "cell_type": "markdown",
      "metadata": {
        "id": "jWn_ewIrd2EU"
      },
      "source": [
        "#### Splitting the blood pressure into systolic and diastolic"
      ]
    },
    {
      "cell_type": "code",
      "execution_count": null,
      "metadata": {
        "id": "bK01S-Kcd2EU"
      },
      "outputs": [],
      "source": [
        "#spliting the blood pressure into two columns\n",
        "df['systolic_bp'] = df['Blood Pressure'].apply(lambda x: x.split('/')[0])\n",
        "df['diastolic_bp'] = df['Blood Pressure'].apply(lambda x: x.split('/')[1])\n",
        "#droping the blood pressure column\n",
        "df.drop('Blood Pressure', axis=1, inplace=True)"
      ]
    },
    {
      "cell_type": "code",
      "execution_count": null,
      "metadata": {
        "id": "HkEBYIPAd2EU"
      },
      "outputs": [],
      "source": [
        "#replacing normal weight with normal in BMI column\n",
        "df['BMI Category'] = df['BMI Category'].replace('Normal Weight', 'Normal')"
      ]
    },
    {
      "cell_type": "code",
      "execution_count": null,
      "metadata": {
        "id": "1uAo3zCad2EV"
      },
      "outputs": [],
      "source": [
        "df.head()"
      ]
    },
    {
      "cell_type": "markdown",
      "metadata": {
        "id": "ZwXT0x7Jd2EV"
      },
      "source": [
        "### Checking the unique values from each categorical column"
      ]
    },
    {
      "cell_type": "code",
      "execution_count": null,
      "metadata": {
        "id": "QE89q9R1d2EW"
      },
      "outputs": [],
      "source": [
        "#unique values from categorical columns\n",
        "print(df.Occupation.unique())\n",
        "print('\\n')\n",
        "print(df['BMI Category'].unique())\n",
        "print('\\n')\n",
        "print(df['Sleep Disorder'].unique())"
      ]
    },
    {
      "cell_type": "markdown",
      "metadata": {
        "id": "ttjXpWcAd2EW"
      },
      "source": [
        "## Explorative Data Analysis"
      ]
    },
    {
      "cell_type": "markdown",
      "metadata": {
        "id": "HKlu84W2d2EW"
      },
      "source": [
        "The EDA is divided into two phases:\n",
        "\n",
        "Phase 1:  Understanding the data by plotting its variables\n",
        "\n",
        "Phase 2: Understanding the correlation between the variables"
      ]
    },
    {
      "cell_type": "markdown",
      "metadata": {
        "id": "WP7EgIAJd2EX"
      },
      "source": [
        "#### Phase 1"
      ]
    },
    {
      "cell_type": "code",
      "execution_count": null,
      "metadata": {
        "id": "ASxnn8Skd2EX"
      },
      "outputs": [],
      "source": [
        "fig,ax = plt.subplots(3,3,figsize=(20,10))\n",
        "sns.countplot(x = 'Gender', data = df, ax = ax[0,0])\n",
        "sns.histplot(x = 'Age', data = df, ax = ax[0,1], bins = 10)\n",
        "sns.histplot(x = 'Sleep Duration', data = df, ax = ax[0,2], bins = 10)\n",
        "sns.countplot(x = 'Quality of Sleep', data = df, ax = ax[1,0])\n",
        "sns.histplot(x = 'Physical Activity Level', data = df, ax = ax[1,1], bins = 10)\n",
        "sns.countplot(x = 'Stress Level', data = df, ax = ax[1,2])\n",
        "sns.countplot(x = 'BMI Category', data = df, ax = ax[2,0])\n",
        "sns.histplot(x = 'Daily Steps', data = df, ax = ax[2,1], bins = 10)\n",
        "sns.countplot(x = 'Sleep Disorder', data = df, ax = ax[2,2])\n"
      ]
    },
    {
      "cell_type": "markdown",
      "metadata": {
        "id": "k5sZ6TOhd2EX"
      },
      "source": [
        "The number of males and females is almost equal, out of which majority of the people have age between 30-45 years. Most of the people have sleep quality greater than 5 which means there are getting sufficient sleep. Moreover, most of the people have normal BMI whci directly relates with the distribution of sleep disorder which shows equal number of people with and without sleep disorder."
      ]
    },
    {
      "cell_type": "markdown",
      "metadata": {
        "id": "rVuiiNCcd2EX"
      },
      "source": [
        "#### Phase 2"
      ]
    },
    {
      "cell_type": "markdown",
      "metadata": {
        "id": "APsQtVd0d2EY"
      },
      "source": [
        "#### Gender and Sleep Disorder"
      ]
    },
    {
      "cell_type": "code",
      "execution_count": null,
      "metadata": {
        "id": "PBpDJha0d2EY"
      },
      "outputs": [],
      "source": [
        "#Gender count plot\n",
        "sns.countplot(x = 'Gender', data = df, palette = 'hls', hue = 'Sleep Disorder').set_title('Gender and Sleep Disorder')"
      ]
    },
    {
      "cell_type": "markdown",
      "metadata": {
        "id": "t_bp2dJXd2EY"
      },
      "source": [
        "Most of the males and females are not suffering from any sleep disorder. However females tend to have more sleep disorder as compared to males. The number of females suffering from Sleep Apnea is quite high as compared to males. But in contrast to that, greater number of males are suffering from Insomia as compared to females."
      ]
    },
    {
      "cell_type": "markdown",
      "metadata": {
        "id": "QxEx2f8Kd2EZ"
      },
      "source": [
        "### Effect of Occupation on Sleep Disorder"
      ]
    },
    {
      "cell_type": "code",
      "execution_count": null,
      "metadata": {
        "id": "BkhQEnB5d2EZ"
      },
      "outputs": [],
      "source": [
        "ax = sns.countplot(x = 'Occupation', data = df, hue = 'Sleep Disorder')\n",
        "ax.set_xticklabels(ax.get_xticklabels(), rotation = 90)"
      ]
    },
    {
      "cell_type": "markdown",
      "metadata": {
        "id": "v3z2j5bld2EZ"
      },
      "source": [
        "From the graph it is clear that the occupation has huge impact on the sleep disorder. Nurses are more subjected to have Sleep Apenea as compared to other occupations and very few of them have no sleep disorder. After nurses, the next most affected occupation is the Salesperson, which counts for the  most suffering from Insomia followed by teachers. However there are some occupations where most of the people have very few instance of Sleep Apenea and Insomia such as Engineers, Doctors, Accountants, Lawyers.\n",
        "The Software ENgineers and Managers are so less in number so I cannot say much about that, But the occupation Sales Representative has shown only Sleep Apenea and no Insomia or No sleep disorder."
      ]
    },
    {
      "cell_type": "markdown",
      "metadata": {
        "id": "yB4iJpkdd2Ea"
      },
      "source": [
        "### BMI and Sleep Disorder"
      ]
    },
    {
      "cell_type": "code",
      "execution_count": null,
      "metadata": {
        "id": "c5SwWL8Od2Ea"
      },
      "outputs": [],
      "source": [
        "sns.countplot(x = 'BMI Category', hue = 'Sleep Disorder', data = df, palette = 'Set1').set_title('BMI Category and Sleep Disorder')"
      ]
    },
    {
      "cell_type": "markdown",
      "metadata": {
        "id": "hhRInU7_d2Eb"
      },
      "source": [
        "People with normal BMI are less likely to suffer from any sleep disorder. However, this is opposite in case of Overweight and Obese people. Overweight are more likely to suffer more from sleep disordera than Obese people."
      ]
    },
    {
      "cell_type": "markdown",
      "metadata": {
        "id": "xvNsdpeKd2Eb"
      },
      "source": [
        "## Data Preprocessing Part 2"
      ]
    },
    {
      "cell_type": "markdown",
      "metadata": {
        "id": "gXmu94J9d2Eb"
      },
      "source": [
        "#### Label Encoding for categorical variables"
      ]
    },
    {
      "cell_type": "code",
      "execution_count": null,
      "metadata": {
        "id": "t96xgQgId2Ec"
      },
      "outputs": [],
      "source": [
        "from sklearn import preprocessing\n",
        "label_encoder = preprocessing.LabelEncoder()"
      ]
    },
    {
      "cell_type": "code",
      "execution_count": null,
      "metadata": {
        "id": "YYAfiHT4d2Ec"
      },
      "outputs": [],
      "source": [
        "vars = ['Gender', 'Occupation','BMI Category','Sleep Disorder']\n",
        "for i in vars:\n",
        "    label_encoder.fit(df[i].unique())\n",
        "    df[i] = label_encoder.transform(df[i])\n",
        "    print(i,':' ,df[i].unique())"
      ]
    },
    {
      "cell_type": "markdown",
      "metadata": {
        "id": "cN2K-0y4d2Ec"
      },
      "source": [
        "## Correlation Matrix Heatmap"
      ]
    },
    {
      "cell_type": "code",
      "execution_count": null,
      "metadata": {
        "id": "UYqgLD3qd2Ec"
      },
      "outputs": [],
      "source": [
        "#Correlation Matrix Heatmap\n",
        "plt.figure(figsize=(20, 16))\n",
        "sns.heatmap(df.corr(), annot = True, cmap = 'coolwarm')"
      ]
    },
    {
      "cell_type": "markdown",
      "metadata": {
        "id": "yEtrsbHbd2Ed"
      },
      "source": [
        "## Train Test Split"
      ]
    },
    {
      "cell_type": "code",
      "execution_count": null,
      "metadata": {
        "id": "gjeGKBRFd2Em"
      },
      "outputs": [],
      "source": [
        "from sklearn.model_selection import train_test_split\n",
        "X_train, X_test, y_train, y_test = train_test_split(df.drop('Sleep Disorder',axis=1), df['Sleep Disorder'], test_size=0.3, random_state=42)"
      ]
    },
    {
      "cell_type": "code",
      "execution_count": null,
      "metadata": {
        "id": "7tjnqGXPd2Em"
      },
      "outputs": [],
      "source": [
        "X_train.head()"
      ]
    },
    {
      "cell_type": "markdown",
      "metadata": {
        "id": "TprYeKosd2Em"
      },
      "source": [
        "## Data Normalization"
      ]
    },
    {
      "cell_type": "code",
      "execution_count": null,
      "metadata": {
        "id": "5qGetCx2d2En"
      },
      "outputs": [],
      "source": [
        "from sklearn.preprocessing import StandardScaler\n",
        "\n",
        "scaler = StandardScaler()\n",
        "\n",
        "scaler.fit(X_train)\n",
        "X_train_scale = scaler.transform(X_train)\n",
        "X_test_scale = scaler.transform(X_test)"
      ]
    },
    {
      "cell_type": "markdown",
      "metadata": {
        "id": "Dj-H0vcad2En"
      },
      "source": [
        "## Model Building"
      ]
    },
    {
      "cell_type": "markdown",
      "metadata": {
        "id": "HD8HlGq3d2En"
      },
      "source": [
        "For predictiong the sleep disorder thriugh classification algorithms I will use the following algorithms:\n",
        "1. Decision Tree Classifier\n",
        "2. Random Forest Classifier"
      ]
    },
    {
      "cell_type": "markdown",
      "metadata": {
        "id": "fUHJxnMld2En"
      },
      "source": [
        "### Decision Tree Classifier"
      ]
    },
    {
      "cell_type": "code",
      "execution_count": null,
      "metadata": {
        "id": "7dOuEbWgd2Eo"
      },
      "outputs": [],
      "source": [
        "from sklearn.tree import DecisionTreeClassifier\n",
        "dtree = DecisionTreeClassifier()\n",
        "dtree"
      ]
    },
    {
      "cell_type": "markdown",
      "metadata": {
        "id": "fiko3f_rd2Eo"
      },
      "source": [
        "Training the model with train dataset"
      ]
    },
    {
      "cell_type": "code",
      "execution_count": null,
      "metadata": {
        "id": "a-X7_TZbd2Eo"
      },
      "outputs": [],
      "source": [
        "dtree.fit(X_train_scale, y_train)"
      ]
    },
    {
      "cell_type": "code",
      "execution_count": null,
      "metadata": {
        "id": "1T9_xzQLd2Ep"
      },
      "outputs": [],
      "source": [
        "#training accuracy\n",
        "print(\"Training Accuracy:\",dtree.score(X_train_scale,y_train))"
      ]
    },
    {
      "cell_type": "markdown",
      "metadata": {
        "id": "AmF1k9aKd2Ep"
      },
      "source": [
        "### Decision Tree Model Evalution"
      ]
    },
    {
      "cell_type": "code",
      "execution_count": null,
      "metadata": {
        "id": "-kYnSz-1d2Ep"
      },
      "outputs": [],
      "source": [
        "d_pred = dtree.predict(X_test_scale)\n",
        "d_pred"
      ]
    },
    {
      "cell_type": "markdown",
      "metadata": {
        "id": "9TJsda9_d2Eq"
      },
      "source": [
        "Using Confusion matrix heatmap to visualize the model accuracy"
      ]
    },
    {
      "cell_type": "code",
      "execution_count": null,
      "metadata": {
        "id": "rqtR809Nd2Eq"
      },
      "outputs": [],
      "source": [
        "from sklearn.metrics import confusion_matrix\n",
        "sns.heatmap(confusion_matrix(y_test, d_pred), annot=True, cmap='Blues', fmt='g')\n",
        "plt.title('Confusion Matrix')\n",
        "plt.xlabel('Actual')\n",
        "plt.ylabel('Predicted')\n",
        "plt.show()"
      ]
    },
    {
      "cell_type": "markdown",
      "metadata": {
        "id": "FRzvDeZNd2Er"
      },
      "source": [
        "The diagonal boxes show the count of true positive results, i.e correct predictions made by the model. The off-diagonal boxes show the count of false positive results, i.e incorrect predictions made by the model."
      ]
    },
    {
      "cell_type": "markdown",
      "metadata": {
        "id": "ndT_EsdFd2Er"
      },
      "source": [
        "### Dsitribution plot for predicted and actual values"
      ]
    },
    {
      "cell_type": "code",
      "execution_count": null,
      "metadata": {
        "id": "plLQ_b05d2Er"
      },
      "outputs": [],
      "source": [
        "ax = sns.distplot(y_test, hist=False, color=\"r\", label=\"Actual Value\")\n",
        "sns.distplot(d_pred, hist=False, color=\"b\", label=\"Fitted Values\" , ax=ax)\n",
        "plt.title('Actual vs Fitted Values for Sleep Disorder Prediction')\n",
        "plt.xlabel('Sleep Disorder')\n",
        "plt.ylabel('Proportion of People')\n",
        "plt.show()"
      ]
    },
    {
      "cell_type": "markdown",
      "metadata": {
        "id": "qNdwJPx1d2Es"
      },
      "source": [
        "The actual values are represented with red and the predicted ones with blue. As shown in the graph, the model's prediction are able to follow the curve of actual values but the predicted values are still different from actual ones. Therefore the model is not able to predict the values accurately."
      ]
    },
    {
      "cell_type": "markdown",
      "metadata": {
        "id": "5MgEdVyld2Es"
      },
      "source": [
        "##### Classification Report"
      ]
    },
    {
      "cell_type": "code",
      "execution_count": null,
      "metadata": {
        "id": "K_5AbqsHd2Es"
      },
      "outputs": [],
      "source": [
        "from sklearn.metrics import classification_report, accuracy_score\n",
        "print(classification_report(y_test, d_pred))\n",
        "print(\"Accuracy: \", accuracy_score(y_test, d_pred))"
      ]
    },
    {
      "cell_type": "markdown",
      "metadata": {
        "id": "JbtB2WT6d2Et"
      },
      "source": [
        "The model gives pretty decent results with an accuracy of 87% and an average F1 score of 0.83. The model is able to predict the sleep disorder with a good accuracy."
      ]
    },
    {
      "cell_type": "markdown",
      "metadata": {
        "id": "Bc0R2wWHd2Et"
      },
      "source": [
        "### Random Forest Classifier"
      ]
    },
    {
      "cell_type": "code",
      "execution_count": null,
      "metadata": {
        "id": "g0g0d4Jxd2Et"
      },
      "outputs": [],
      "source": [
        "from sklearn.ensemble import RandomForestClassifier\n",
        "rfc = RandomForestClassifier(n_estimators=100, random_state=42)"
      ]
    },
    {
      "cell_type": "markdown",
      "metadata": {
        "id": "h_TPVzXhd2Eu"
      },
      "source": [
        "Training the model with train dataset"
      ]
    },
    {
      "cell_type": "code",
      "execution_count": null,
      "metadata": {
        "id": "k5o8-pZDd2Eu"
      },
      "outputs": [],
      "source": [
        "rfc.fit(X_train_scale, y_train)"
      ]
    },
    {
      "cell_type": "code",
      "execution_count": null,
      "metadata": {
        "id": "qKeoOhI4d2Eu"
      },
      "outputs": [],
      "source": [
        "#Training accuracy\n",
        "print(\"Training accuracy: \",rfc.score(X_train_scale,y_train))"
      ]
    },
    {
      "cell_type": "markdown",
      "metadata": {
        "id": "dwTcTeLNd2Ev"
      },
      "source": [
        "### Random Forest Classifier Evaluation"
      ]
    },
    {
      "cell_type": "code",
      "execution_count": null,
      "metadata": {
        "id": "R6heprW6d2Ev"
      },
      "outputs": [],
      "source": [
        "rfc_pred = rfc.predict(X_test_scale)\n",
        "rfc_pred"
      ]
    },
    {
      "cell_type": "markdown",
      "metadata": {
        "id": "GyRMsW2nd2Ev"
      },
      "source": [
        "Using confusion matrix heatmap to visualize the model accuracy"
      ]
    },
    {
      "cell_type": "code",
      "execution_count": null,
      "metadata": {
        "id": "fvgvXPK5d2Ew"
      },
      "outputs": [],
      "source": [
        "#confusion matrix heatmap\n",
        "sns.heatmap(confusion_matrix(y_test, rfc_pred), annot=True, cmap='Blues')\n",
        "plt.title('Confusion Matrix')\n",
        "plt.xlabel('Predicted')\n",
        "plt.ylabel('Actual')\n",
        "plt.show()"
      ]
    },
    {
      "cell_type": "markdown",
      "metadata": {
        "id": "UDC2Q3Yld2Ew"
      },
      "source": [
        "The Random Forest Classifier model  has greater accuracy than the Decision Tree Classifier model. The diagonal boxes count for the True Positives i.e correct predictions, whereas the off-diagonal boxes show the count of false positive results, i.e incorrect predictions made by the model. Since the number of false positve value is less, it shows that the model is good at predicting the correct results."
      ]
    },
    {
      "cell_type": "markdown",
      "metadata": {
        "id": "ucWYEjg_d2Ew"
      },
      "source": [
        "### Distribution plot for predicted and acutal values"
      ]
    },
    {
      "cell_type": "code",
      "execution_count": null,
      "metadata": {
        "id": "eewAhMSRd2Ew"
      },
      "outputs": [],
      "source": [
        "ax = sns.distplot(y_test, hist=False, color=\"r\", label=\"Actual Value\")\n",
        "sns.distplot(rfc_pred, hist=False, color=\"b\", label=\"Predicted Values\" , ax=ax)\n",
        "plt.title('Actual vs Predicted values for Sleep Disorder')\n",
        "plt.xlabel('Sleep Disorder')\n",
        "plt.ylabel('Proportion of Patients')\n",
        "plt.show()"
      ]
    },
    {
      "cell_type": "markdown",
      "metadata": {
        "id": "SYAJTCARd2Ex"
      },
      "source": [
        "The Random forest classifier has improved accuracy as compared to the Decision Tree which is shown with the gap between the actual and predcited values which was wider incase of Descision Tree Classifier."
      ]
    },
    {
      "cell_type": "markdown",
      "metadata": {
        "id": "DGqvMLLrd2Ex"
      },
      "source": [
        "#### Classification Report"
      ]
    },
    {
      "cell_type": "code",
      "execution_count": null,
      "metadata": {
        "id": "ZnLzBPpqd2Ex"
      },
      "outputs": [],
      "source": [
        "print(classification_report(y_test, rfc_pred))\n",
        "print(\"Accuracy: \", accuracy_score(y_test, rfc_pred))"
      ]
    },
    {
      "cell_type": "markdown",
      "metadata": {
        "id": "M0SFQiSyd2Ex"
      },
      "source": [
        "The Random Forest Classifier model has an accuracy of 89%  and an avergae F1 score of 0.86. From the metrics it is quite clear that the model is able to predict the sleep disorder quite effectively, with increased accuracy than Decision Tree Classifer."
      ]
    },
    {
      "cell_type": "markdown",
      "metadata": {
        "id": "6i5w-M0Xd2Ey"
      },
      "source": [
        "## Conclusion\n",
        "\n",
        "From the exploratory data analysis, I have concluded that the sleep orders depends upon three main factors that are gender, occupation and BMI of the patient. The males have more instance of Insomia whereas femlaes have more instances of Sleep Apnea. In addition the that people with occupation such as nurses are more prone to sleep disorders. The BMI of the patient also plays a vital role in the prediction of sleep disorders. The patients who are either Obese or overweight are more prone to sleep disorders.\n",
        "\n",
        "Coming to the classfication models, both the models performed pretty good, however the Random Forest Classifier have excellent results with 89% accuracy."
      ]
    },
    {
      "cell_type": "markdown",
      "metadata": {
        "id": "7gcrowYWd2Ey"
      },
      "source": [
        "## Saved Model"
      ]
    },
    {
      "cell_type": "code",
      "execution_count": null,
      "metadata": {
        "id": "5bvFNul3d2Ey"
      },
      "outputs": [],
      "source": [
        "import joblib"
      ]
    },
    {
      "cell_type": "code",
      "execution_count": null,
      "metadata": {
        "id": "KeQddaQ6d2Ey"
      },
      "outputs": [],
      "source": [
        "\n",
        "joblib.dump(rfc, \"RFC_MODEL.pkl\")\n",
        "joblib.dump(scaler, \"SCALER_MODEL.pkl\")"
      ]
    },
    {
      "cell_type": "code",
      "execution_count": null,
      "metadata": {
        "id": "Bn8twRYKd2Ez"
      },
      "outputs": [],
      "source": [
        "RFC_MODEL = joblib.load(\"RFC_MODEL.pkl\")\n",
        "SCLAER_MODEL = joblib.load(\"SCALER_MODEL.pkl\")"
      ]
    },
    {
      "cell_type": "markdown",
      "metadata": {
        "id": "ByYA1EGpd2Ez"
      },
      "source": [
        "## Create Inference Pipeline"
      ]
    },
    {
      "cell_type": "code",
      "execution_count": null,
      "metadata": {
        "id": "a0z03xYnd2Ez"
      },
      "outputs": [],
      "source": [
        "sam  = {'Gender': 1,\n",
        " 'Age': 30,\n",
        " 'Occupation': 1,\n",
        " 'Sleep Duration': 7.6,\n",
        " 'Quality of Sleep': 7,\n",
        " 'Physical Activity Level': 75,\n",
        " 'Stress Level': 6,\n",
        " 'BMI Category': 0,\n",
        " 'Heart Rate': 70,\n",
        " 'Daily Steps': 8000,\n",
        " 'systolic_bp': '120',\n",
        " 'diastolic_bp': '80'}"
      ]
    },
    {
      "cell_type": "code",
      "execution_count": null,
      "metadata": {
        "id": "Vs9aLRv4d2Ez"
      },
      "outputs": [],
      "source": [
        "def return_prediction(model, scaler, sample_json):\n",
        "\n",
        "    a = list(sample_json.values())\n",
        "    a = [ float(i)   for i in a]\n",
        "    data = SCLAER_MODEL.transform([a])\n",
        "    result = RFC_MODEL.predict(data)\n",
        "    labels = [\"Insomnia\", \"None\", \"Sleep Apnea\"]\n",
        "    return labels[result[0]]\n",
        ""
      ]
    },
    {
      "cell_type": "code",
      "execution_count": null,
      "metadata": {
        "id": "8IVWowi9d2E0"
      },
      "outputs": [],
      "source": [
        "return_prediction(model=RFC_MODEL,\n",
        "                 scaler=SCLAER_MODEL,\n",
        "                 sample_json=sam)"
      ]
    },
    {
      "cell_type": "code",
      "execution_count": null,
      "metadata": {
        "id": "WPTQfUJFd2E0"
      },
      "outputs": [],
      "source": [
        "import json\n",
        "b= json.dumps(sam)\n",
        "b"
      ]
    },
    {
      "cell_type": "code",
      "execution_count": null,
      "metadata": {
        "id": "a-Lid7nEd2E0"
      },
      "outputs": [],
      "source": []
    }
  ],
  "metadata": {
    "kernelspec": {
      "display_name": "Python 3 (ipykernel)",
      "language": "python",
      "name": "python3"
    },
    "language_info": {
      "codemirror_mode": {
        "name": "ipython",
        "version": 3
      },
      "file_extension": ".py",
      "mimetype": "text/x-python",
      "name": "python",
      "nbconvert_exporter": "python",
      "pygments_lexer": "ipython3",
      "version": "3.11.3"
    },
    "colab": {
      "provenance": []
    }
  },
  "nbformat": 4,
  "nbformat_minor": 0
}